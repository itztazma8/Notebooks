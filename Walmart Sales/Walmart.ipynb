{
 "cells": [
  {
   "cell_type": "markdown",
   "id": "fb4a2b85",
   "metadata": {},
   "source": [
    "##### Extracting features"
   ]
  },
  {
   "cell_type": "code",
   "execution_count": 59,
   "id": "842329e1",
   "metadata": {},
   "outputs": [
    {
     "data": {
      "text/plain": [
       "Index(['Store', 'Weekly_Sales', 'Holiday_Flag', 'Temperature', 'Fuel_Price',\n",
       "       'CPI', 'Unemployment', 'Year', 'Month', 'Day'],\n",
       "      dtype='object')"
      ]
     },
     "execution_count": 59,
     "metadata": {},
     "output_type": "execute_result"
    }
   ],
   "source": [
    "import pandas as pd\n",
    "df=pd.read_csv('Walmart_Sales.csv')\n",
    "df[\"Year\"]=df[\"Date\"].str.split(\"-\", expand=True)[2]\n",
    "df[\"Month\"]=df[\"Date\"].str.split(\"-\", expand=True)[1]\n",
    "df[\"Day\"]=df[\"Date\"].str.split(\"-\", expand=True)[0]\n",
    "df.drop(\"Date\", axis=1, inplace=True)\n",
    "df.columns\n"
   ]
  },
  {
   "cell_type": "markdown",
   "id": "4743961a",
   "metadata": {},
   "source": [
    "##### Fixing outliars"
   ]
  },
  {
   "cell_type": "code",
   "execution_count": 62,
   "id": "78218901",
   "metadata": {},
   "outputs": [
    {
     "data": {
      "text/plain": [
       "np.float64(0.10304120100599251)"
      ]
     },
     "execution_count": 62,
     "metadata": {},
     "output_type": "execute_result"
    }
   ],
   "source": [
    "import matplotlib.pyplot as plt\n",
    "import seaborn as sns \n",
    "\n",
    "df.columns\n",
    "df=df[df[\"Temperature\"]>14]\n",
    "\n",
    "df=df[df[\"Temperature\"]>=20]\n",
    "df=df[(df[\"Unemployment\"]<=10.5) & (5<=df[\"Unemployment\"])]\n",
    "df[\"Year\"].corr(df[\"CPI\"])\n"
   ]
  }
 ],
 "metadata": {
  "kernelspec": {
   "display_name": "Python 3",
   "language": "python",
   "name": "python3"
  },
  "language_info": {
   "codemirror_mode": {
    "name": "ipython",
    "version": 3
   },
   "file_extension": ".py",
   "mimetype": "text/x-python",
   "name": "python",
   "nbconvert_exporter": "python",
   "pygments_lexer": "ipython3",
   "version": "3.12.6"
  }
 },
 "nbformat": 4,
 "nbformat_minor": 5
}
