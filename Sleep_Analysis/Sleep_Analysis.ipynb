{
 "cells": [
  {
   "cell_type": "markdown",
   "id": "acd96322",
   "metadata": {},
   "source": [
    "#### 1. Lowest Sleep Based On Occupation"
   ]
  },
  {
   "cell_type": "code",
   "execution_count": 1,
   "id": "da3e7b5d",
   "metadata": {},
   "outputs": [
    {
     "name": "stdout",
     "output_type": "stream",
     "text": [
      "Sales Representative\n"
     ]
    }
   ],
   "source": [
    "\n",
    "\n",
    "import pandas as pd\n",
    "\n",
    "\n",
    "df=pd.read_csv(\"sleep_health_data.csv\")\n",
    "df.columns\n",
    "\n",
    "gr_occ=df.groupby(\"Occupation\")[\"Sleep Duration\"].mean()\n",
    "gr_occ=pd.DataFrame(gr_occ)\n",
    "\n",
    "occ_final=gr_occ.sort_values(by=\"Sleep Duration\", ascending=True)\n",
    "\n",
    "acc=occ_final.index[0]\n",
    "\n",
    "lowest_sleep_occ=\"\"\n",
    "lowest_sleep_occ=acc\n",
    "\n",
    "print(lowest_sleep_occ)\n",
    "\n"
   ]
  },
  {
   "cell_type": "markdown",
   "id": "d2e5ece7",
   "metadata": {},
   "source": [
    "#### 2. Lowest Quality Of Sleep and then check with previous one "
   ]
  },
  {
   "cell_type": "code",
   "execution_count": 3,
   "id": "4fb5d890",
   "metadata": {},
   "outputs": [],
   "source": [
    "# Lowest Quality Of Sleep and then check with previous one\n",
    "\n",
    "df.columns\n",
    "qs=df.groupby(\"Occupation\")[\"Quality of Sleep\"].mean()\n",
    "qs=pd.DataFrame(qs)\n",
    "qs1=qs.sort_values(by=\"Quality of Sleep\", ascending=True)\n",
    "qs1\n",
    "act_val=qs1.index[0]\n",
    "lowest_sleep_quality_occ=act_val\n",
    "\n",
    "same_occ=True\n",
    "if lowest_sleep_quality_occ==lowest_sleep_occ:\n",
    "    same_occ=True \n",
    "else:\n",
    "    same_occ=False\n",
    "\n"
   ]
  },
  {
   "cell_type": "markdown",
   "id": "62b4ee70",
   "metadata": {},
   "source": [
    "#### 3 Finding the insomnia v bmi category ratio"
   ]
  },
  {
   "cell_type": "code",
   "execution_count": 4,
   "id": "21c8a6f7",
   "metadata": {},
   "outputs": [
    {
     "name": "stdout",
     "output_type": "stream",
     "text": [
      "{'Overweight': 0.43, 'Normal': 0.04, 'Obese': 0.4}\n"
     ]
    }
   ],
   "source": [
    "insomnia = df[df[\"Sleep Disorder\"] == \"Insomnia\"][\"BMI Category\"]\n",
    "insomnia_one = insomnia.value_counts()\n",
    "\n",
    "\n",
    "overweight=df[df[\"BMI Category\"]==\"Overweight\"][\"BMI Category\"].value_counts()\n",
    "normal=df[df[\"BMI Category\"]==\"Normal\"][\"BMI Category\"].value_counts()\n",
    "obese=df[df[\"BMI Category\"]==\"Obese\"][\"BMI Category\"].value_counts()\n",
    "\n",
    "overweight=overweight.to_dict()\n",
    "overweight=overweight[\"Overweight\"]\n",
    "\n",
    "normal=normal.to_dict()\n",
    "normal=normal[\"Normal\"]\n",
    "\n",
    "\n",
    "obese=obese.to_dict()\n",
    "obese=obese[\"Obese\"]\n",
    "\n",
    "bmi_insomnia_ratios={}\n",
    "insomnia_one=insomnia_one.to_dict()\n",
    "\n",
    "\n",
    "\n",
    "for i, j in insomnia_one.items():\n",
    "    total=0\n",
    "    if i==\"Overweight\":\n",
    "        total=overweight\n",
    "    elif i==\"Normal\":\n",
    "        total=normal\n",
    "    else: \n",
    "        total=obese\n",
    "\n",
    "    ratio= j / total\n",
    "    ratio=round(ratio, 2)\n",
    "\n",
    "    bmi_insomnia_ratios.update({i:ratio})\n",
    "\n",
    "print(bmi_insomnia_ratios)"
   ]
  }
 ],
 "metadata": {
  "kernelspec": {
   "display_name": "Python 3",
   "language": "python",
   "name": "python3"
  },
  "language_info": {
   "codemirror_mode": {
    "name": "ipython",
    "version": 3
   },
   "file_extension": ".py",
   "mimetype": "text/x-python",
   "name": "python",
   "nbconvert_exporter": "python",
   "pygments_lexer": "ipython3",
   "version": "3.12.6"
  }
 },
 "nbformat": 4,
 "nbformat_minor": 5
}
