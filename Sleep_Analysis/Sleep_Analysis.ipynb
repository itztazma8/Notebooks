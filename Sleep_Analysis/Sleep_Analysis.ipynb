{
 "cells": [
  {
   "cell_type": "code",
   "execution_count": 1,
   "id": "da3e7b5d",
   "metadata": {},
   "outputs": [],
   "source": [
    "#Lowest Sleep Based On Occupation\n",
    "\n",
    "import pandas as pd\n",
    "\n",
    "\n",
    "df=pd.read_csv(\"sleep_health_data.csv\")\n",
    "df.columns\n",
    "\n",
    "gr_occ=df.groupby(\"Occupation\")[\"Sleep Duration\"].mean()\n",
    "gr_occ=pd.DataFrame(gr_occ)\n",
    "\n",
    "occ_final=gr_occ.sort_values(by=\"Sleep Duration\", ascending=True)\n",
    "\n",
    "acc=occ_final.index[0]\n",
    "\n",
    "lowest_sleep_occ=\"\"\n",
    "lowest_sleep_occ=acc\n",
    "\n",
    "#print(lowest_sleep_occ)\n",
    "\n",
    "# Lowest Quality Of Sleep and then check with previous one\n",
    "\n",
    "df.columns\n",
    "qs=df.groupby(\"Occupation\")[\"Quality of Sleep\"].mean()\n",
    "qs=pd.DataFrame(qs)\n",
    "qs1=qs.sort_values(by=\"Quality of Sleep\", ascending=True)\n",
    "qs1\n",
    "act_val=qs1.index[0]\n",
    "lowest_sleep_quality_occ=act_val\n",
    "\n",
    "same_occ=True\n",
    "if lowest_sleep_quality_occ==lowest_sleep_occ:\n",
    "    same_occ=True \n",
    "else:\n",
    "    same_occ=False\n",
    "\n"
   ]
  }
 ],
 "metadata": {
  "kernelspec": {
   "display_name": "Python 3",
   "language": "python",
   "name": "python3"
  },
  "language_info": {
   "codemirror_mode": {
    "name": "ipython",
    "version": 3
   },
   "file_extension": ".py",
   "mimetype": "text/x-python",
   "name": "python",
   "nbconvert_exporter": "python",
   "pygments_lexer": "ipython3",
   "version": "3.12.6"
  }
 },
 "nbformat": 4,
 "nbformat_minor": 5
}
