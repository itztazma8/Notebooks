{
 "cells": [
  {
   "cell_type": "markdown",
   "id": "904e009d",
   "metadata": {},
   "source": [
    "##### Libraries & Dataset"
   ]
  },
  {
   "cell_type": "code",
   "execution_count": 670,
   "id": "1cb97506",
   "metadata": {},
   "outputs": [],
   "source": [
    "#IMPORT\n",
    "import numpy as np\n",
    "import pandas as pd\n",
    "import matplotlib.pyplot as plt\n",
    "\n",
    "df=pd.read_csv('ford.csv')\n"
   ]
  },
  {
   "cell_type": "markdown",
   "id": "23adcd54",
   "metadata": {},
   "source": [
    "##### Filtering "
   ]
  },
  {
   "cell_type": "code",
   "execution_count": 671,
   "id": "7e13c3bf",
   "metadata": {},
   "outputs": [],
   "source": [
    "# MODEL COLUMN\n",
    "\n",
    "df[\"model\"]=df[\"model\"].str.strip()\n",
    "df[\"model\"].value_counts()\n",
    "cars=[\"Escort\", \"Streetka\", \"Ranger\", \"Transit Tourneo\", \"Fusion\"]\n",
    "\n",
    "df=df[~df[\"model\"].isin(cars)]\n",
    "\n",
    "df[\"model\"].value_counts()\n",
    "\n",
    "\n",
    "# YEAR COLUMN\n",
    "\n",
    "years=[2004, 2006, 2003, 2002, 2004, 1998, 2000, 2060]\n",
    "df=df[~df[\"year\"].isin(years)]\n",
    "df[\"year\"].value_counts()\n",
    "\n",
    "#PRICE\n",
    "\n",
    "df=df[df[\"price\"]<=42000]\n",
    "\n",
    "#FUEL TYPE\n",
    "\n",
    "fuel=[\"Electric\", \"Other\"]\n",
    "\n",
    "df=df[~df[\"fuelType\"].isin(fuel)]\n",
    "df[\"fuelType\"].value_counts()\n",
    "\n",
    "# TAX\n",
    "\n",
    "df=df[df[\"tax\"]<=300]\n",
    "\n",
    "#MPG\n",
    "\n",
    "df=df[(df[\"mpg\"]<=80) & (df[\"mpg\"]>=28)]\n",
    "\n",
    "#ENGINE SIZE\n",
    "\n",
    "\n",
    "df[\"engineSize\"].value_counts()\n",
    "sizes=[5.0, 1.3, 2.2]\n",
    "df=df[~df[\"engineSize\"].isin(sizes)]\n",
    "\n",
    "\n"
   ]
  },
  {
   "cell_type": "markdown",
   "id": "c5fae445",
   "metadata": {},
   "source": [
    "##### Feature Engineering"
   ]
  },
  {
   "cell_type": "code",
   "execution_count": 672,
   "id": "e6be38da",
   "metadata": {},
   "outputs": [],
   "source": [
    "# TAX RATE\n",
    "\n",
    "df[\"tax_rate\"]=(df[\"tax\"]/df[\"price\"])*100\n",
    "df=df[df[\"tax_rate\"]<=10]\n",
    "\n",
    "df=df.drop(\"tax\", axis=1)\n"
   ]
  },
  {
   "cell_type": "markdown",
   "id": "2e0bfbae",
   "metadata": {},
   "source": [
    "##### Mapping"
   ]
  },
  {
   "cell_type": "code",
   "execution_count": 673,
   "id": "51e179f5",
   "metadata": {},
   "outputs": [],
   "source": [
    "#FIX COLUMNS [MODEL]\n",
    "df[\"model\"]=df[\"model\"].replace([\"Fiesta\", \"KA\", \"Ka+\"], \"Hatchback\")\n",
    "df[\"model\"]=df[\"model\"].replace([\"Mondeo\", \"Focus\"], \"Sedan\")\n",
    "df[\"model\"]=df[\"model\"].replace([\"Kuga\", \"EcoSport\", \"Puma\", \"Edge\"], \"SUV\")\n",
    "df[\"model\"]=df[\"model\"].replace([\"C-MAX\", \"B-MAX\", \"S-MAX\", \"Grand C-MAX\", \"Galaxy\"], \"MPV\")\n",
    "df[\"model\"]=df[\"model\"].replace([\"Tourneo Custom\", \"Grand Tourneo Connect\", \"Tourneo Connect\"], \"Van\")\n",
    "df[\"model\"]=df[\"model\"].replace([\"Mustang\"], \"Coupe\")\n"
   ]
  },
  {
   "cell_type": "markdown",
   "id": "c796f16b",
   "metadata": {},
   "source": [
    "#### Feature Engineering 2"
   ]
  },
  {
   "cell_type": "code",
   "execution_count": 674,
   "id": "0fab53bd",
   "metadata": {},
   "outputs": [],
   "source": [
    "#PREDICTING CHANCE TO BUY OR NOT\n",
    "df[\"model\"].value_counts()\n",
    "\n",
    "def Classify_Cars(row):\n",
    "    if row[\"fuelType\"]==\"Petrol\" and row[\"transmission\"]==\"Automatic\" and row[\"tax_rate\"]<=float(7) and row[\"mileage\"]<=75000:\n",
    "        if row[\"model\"] in [\"Hatchback\", \"SUV\", \"Sedan\"]:\n",
    "            if row[\"price\"]<=25000:\n",
    "                return 0\n",
    "            else:\n",
    "                return 1\n",
    "        else: \n",
    "            if row[\"price\"]<=25000:\n",
    "                return 1\n",
    "            else: \n",
    "                return 2\n",
    "    \n",
    "    else:\n",
    "        return 2\n",
    "\n",
    "df[\"car_class\"]=df.apply(Classify_Cars, axis=1)\n",
    "\n"
   ]
  },
  {
   "cell_type": "markdown",
   "id": "05923e18",
   "metadata": {},
   "source": [
    "##### Train & Test"
   ]
  },
  {
   "cell_type": "code",
   "execution_count": 675,
   "id": "5478832a",
   "metadata": {},
   "outputs": [],
   "source": [
    "#PREDICTING PRICE\n",
    "from sklearn.model_selection import train_test_split\n",
    "\n",
    "X=df.drop(\"car_class\", axis=1)\n",
    "y=df[\"car_class\"]\n",
    "\n",
    "X_train, X_test, y_train, y_test= train_test_split(X, y, test_size=0.2)"
   ]
  },
  {
   "cell_type": "markdown",
   "id": "2b41a9fc",
   "metadata": {},
   "source": [
    "#### Encoding"
   ]
  },
  {
   "cell_type": "code",
   "execution_count": 676,
   "id": "5b50627c",
   "metadata": {},
   "outputs": [],
   "source": [
    "#ENCODING 2 COLUMNS\n",
    "from sklearn.preprocessing import OneHotEncoder\n",
    "\n",
    "cols=[\"transmission\", \"fuelType\",\"model\"] \n",
    "X_train=pd.get_dummies(X_train, columns=cols)\n",
    "X_test=pd.get_dummies(X_test, columns=cols)\n",
    "\n"
   ]
  },
  {
   "cell_type": "markdown",
   "id": "6cfa6194",
   "metadata": {},
   "source": [
    "#### Scaling"
   ]
  },
  {
   "cell_type": "code",
   "execution_count": 677,
   "id": "6943acb7",
   "metadata": {},
   "outputs": [],
   "source": [
    "#SCALING ALL\n",
    "from sklearn.preprocessing import StandardScaler\n",
    "scaler=StandardScaler()\n",
    "\n",
    "X_train=scaler.fit_transform(X_train)\n",
    "X_test=scaler.transform(X_test)"
   ]
  },
  {
   "cell_type": "markdown",
   "id": "90da9561",
   "metadata": {},
   "source": [
    "#### KNN"
   ]
  },
  {
   "cell_type": "code",
   "execution_count": 678,
   "id": "db108797",
   "metadata": {},
   "outputs": [],
   "source": [
    "#PREDICTING\n",
    "from sklearn.neighbors import KNeighborsClassifier\n",
    "knn=KNeighborsClassifier(n_neighbors=3)\n",
    "knn.fit(X_train, y_train)\n",
    "\n",
    "y_predict=knn.predict(X_test)"
   ]
  },
  {
   "cell_type": "markdown",
   "id": "2aeed056",
   "metadata": {},
   "source": [
    "#### Accuracy"
   ]
  },
  {
   "cell_type": "code",
   "execution_count": 679,
   "id": "bb039fca",
   "metadata": {},
   "outputs": [
    {
     "name": "stdout",
     "output_type": "stream",
     "text": [
      "The Accuracy Score is: 0.9997160704145373\n"
     ]
    }
   ],
   "source": [
    "#SCORE\n",
    "from sklearn.metrics import accuracy_score\n",
    "accuracy=accuracy_score(y_predict, y_test)\n",
    "print(\"The Accuracy Score is:\", accuracy)"
   ]
  }
 ],
 "metadata": {
  "kernelspec": {
   "display_name": "Python 3",
   "language": "python",
   "name": "python3"
  },
  "language_info": {
   "codemirror_mode": {
    "name": "ipython",
    "version": 3
   },
   "file_extension": ".py",
   "mimetype": "text/x-python",
   "name": "python",
   "nbconvert_exporter": "python",
   "pygments_lexer": "ipython3",
   "version": "3.12.6"
  }
 },
 "nbformat": 4,
 "nbformat_minor": 5
}
